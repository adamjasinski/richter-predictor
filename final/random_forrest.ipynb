{
 "cells": [
  {
   "cell_type": "code",
   "execution_count": 1,
   "metadata": {},
   "outputs": [],
   "source": [
    "import pandas as pd\n",
    "pd.options.plotting.backend = \"plotly\"\n",
    "pd.set_option('display.max_columns', None)\n",
    "\n",
    "\n",
    "X_train = pd.read_csv('../data/train_values.csv', index_col='building_id')\n",
    "y_train = pd.read_csv('../data/train_labels.csv', index_col='building_id')\n",
    "\n",
    "X_test = pd.read_csv('../data/test_values.csv', index_col='building_id')"
   ]
  },
  {
   "cell_type": "markdown",
   "metadata": {},
   "source": [
    "### Select features"
   ]
  },
  {
   "cell_type": "code",
   "execution_count": 2,
   "metadata": {},
   "outputs": [],
   "source": [
    "X_train[['geo_level_1_id','geo_level_2_id','geo_level_3_id']] = X_train[['geo_level_1_id','geo_level_2_id','geo_level_3_id']].astype(str)\n",
    "X_test[['geo_level_1_id','geo_level_2_id','geo_level_3_id']] = X_test[['geo_level_1_id','geo_level_2_id','geo_level_3_id']].astype(str)\n",
    "\n",
    "X_train[['count_floors_pre_eq','age','area_percentage','height_percentage']] = X_train[['count_floors_pre_eq','age','area_percentage','height_percentage']].astype(float)\n",
    "\n",
    "X_train['volume_percentage']=X_train['area_percentage'] * X_train['height_percentage']\n",
    "X_test['volume_percentage']=X_test['area_percentage'] * X_test['height_percentage']\n",
    "\n",
    "# Categorical columns \n",
    "categorical_columns = [c for c in X_train.select_dtypes(include=['object'])]\n",
    "numerical_columns= list(set(X_train.columns) - set(categorical_columns))"
   ]
  },
  {
   "cell_type": "markdown",
   "metadata": {},
   "source": [
    "### Split data"
   ]
  },
  {
   "cell_type": "code",
   "execution_count": 3,
   "metadata": {},
   "outputs": [],
   "source": [
    "from sklearn.model_selection import train_test_split\n",
    "X_train, X_valid, y_train, y_valid = train_test_split(X_train, y_train, train_size=0.8, test_size=0.2, random_state=0)"
   ]
  },
  {
   "cell_type": "markdown",
   "metadata": {},
   "source": [
    "### Define Pipeline"
   ]
  },
  {
   "cell_type": "code",
   "execution_count": 4,
   "metadata": {},
   "outputs": [
    {
     "data": {
      "text/html": [
       "<style>#sk-container-id-1 {color: black;}#sk-container-id-1 pre{padding: 0;}#sk-container-id-1 div.sk-toggleable {background-color: white;}#sk-container-id-1 label.sk-toggleable__label {cursor: pointer;display: block;width: 100%;margin-bottom: 0;padding: 0.3em;box-sizing: border-box;text-align: center;}#sk-container-id-1 label.sk-toggleable__label-arrow:before {content: \"▸\";float: left;margin-right: 0.25em;color: #696969;}#sk-container-id-1 label.sk-toggleable__label-arrow:hover:before {color: black;}#sk-container-id-1 div.sk-estimator:hover label.sk-toggleable__label-arrow:before {color: black;}#sk-container-id-1 div.sk-toggleable__content {max-height: 0;max-width: 0;overflow: hidden;text-align: left;background-color: #f0f8ff;}#sk-container-id-1 div.sk-toggleable__content pre {margin: 0.2em;color: black;border-radius: 0.25em;background-color: #f0f8ff;}#sk-container-id-1 input.sk-toggleable__control:checked~div.sk-toggleable__content {max-height: 200px;max-width: 100%;overflow: auto;}#sk-container-id-1 input.sk-toggleable__control:checked~label.sk-toggleable__label-arrow:before {content: \"▾\";}#sk-container-id-1 div.sk-estimator input.sk-toggleable__control:checked~label.sk-toggleable__label {background-color: #d4ebff;}#sk-container-id-1 div.sk-label input.sk-toggleable__control:checked~label.sk-toggleable__label {background-color: #d4ebff;}#sk-container-id-1 input.sk-hidden--visually {border: 0;clip: rect(1px 1px 1px 1px);clip: rect(1px, 1px, 1px, 1px);height: 1px;margin: -1px;overflow: hidden;padding: 0;position: absolute;width: 1px;}#sk-container-id-1 div.sk-estimator {font-family: monospace;background-color: #f0f8ff;border: 1px dotted black;border-radius: 0.25em;box-sizing: border-box;margin-bottom: 0.5em;}#sk-container-id-1 div.sk-estimator:hover {background-color: #d4ebff;}#sk-container-id-1 div.sk-parallel-item::after {content: \"\";width: 100%;border-bottom: 1px solid gray;flex-grow: 1;}#sk-container-id-1 div.sk-label:hover label.sk-toggleable__label {background-color: #d4ebff;}#sk-container-id-1 div.sk-serial::before {content: \"\";position: absolute;border-left: 1px solid gray;box-sizing: border-box;top: 0;bottom: 0;left: 50%;z-index: 0;}#sk-container-id-1 div.sk-serial {display: flex;flex-direction: column;align-items: center;background-color: white;padding-right: 0.2em;padding-left: 0.2em;position: relative;}#sk-container-id-1 div.sk-item {position: relative;z-index: 1;}#sk-container-id-1 div.sk-parallel {display: flex;align-items: stretch;justify-content: center;background-color: white;position: relative;}#sk-container-id-1 div.sk-item::before, #sk-container-id-1 div.sk-parallel-item::before {content: \"\";position: absolute;border-left: 1px solid gray;box-sizing: border-box;top: 0;bottom: 0;left: 50%;z-index: -1;}#sk-container-id-1 div.sk-parallel-item {display: flex;flex-direction: column;z-index: 1;position: relative;background-color: white;}#sk-container-id-1 div.sk-parallel-item:first-child::after {align-self: flex-end;width: 50%;}#sk-container-id-1 div.sk-parallel-item:last-child::after {align-self: flex-start;width: 50%;}#sk-container-id-1 div.sk-parallel-item:only-child::after {width: 0;}#sk-container-id-1 div.sk-dashed-wrapped {border: 1px dashed gray;margin: 0 0.4em 0.5em 0.4em;box-sizing: border-box;padding-bottom: 0.4em;background-color: white;}#sk-container-id-1 div.sk-label label {font-family: monospace;font-weight: bold;display: inline-block;line-height: 1.2em;}#sk-container-id-1 div.sk-label-container {text-align: center;}#sk-container-id-1 div.sk-container {/* jupyter's `normalize.less` sets `[hidden] { display: none; }` but bootstrap.min.css set `[hidden] { display: none !important; }` so we also need the `!important` here to be able to override the default hidden behavior on the sphinx rendered scikit-learn.org. See: https://github.com/scikit-learn/scikit-learn/issues/21755 */display: inline-block !important;position: relative;}#sk-container-id-1 div.sk-text-repr-fallback {display: none;}</style><div id=\"sk-container-id-1\" class=\"sk-top-container\"><div class=\"sk-text-repr-fallback\"><pre>Pipeline(steps=[(&#x27;preprocessor&#x27;,\n",
       "                 ColumnTransformer(transformers=[(&#x27;cat&#x27;,\n",
       "                                                  Pipeline(steps=[(&#x27;target&#x27;,\n",
       "                                                                   TargetEncoder(target_type=&#x27;continuous&#x27;))]),\n",
       "                                                  [&#x27;geo_level_1_id&#x27;,\n",
       "                                                   &#x27;geo_level_2_id&#x27;,\n",
       "                                                   &#x27;geo_level_3_id&#x27;,\n",
       "                                                   &#x27;land_surface_condition&#x27;,\n",
       "                                                   &#x27;foundation_type&#x27;,\n",
       "                                                   &#x27;roof_type&#x27;,\n",
       "                                                   &#x27;ground_floor_type&#x27;,\n",
       "                                                   &#x27;other_floor_type&#x27;,\n",
       "                                                   &#x27;position&#x27;,\n",
       "                                                   &#x27;plan_configuration&#x27;,\n",
       "                                                   &#x27;legal_ownership_status&#x27;]),\n",
       "                                                 (&#x27;num...\n",
       "                                                   &#x27;has_secondary_use_health_post&#x27;,\n",
       "                                                   &#x27;has_secondary_use_use_police&#x27;,\n",
       "                                                   &#x27;has_superstructure_mud_mortar_brick&#x27;,\n",
       "                                                   &#x27;has_secondary_use_agriculture&#x27;,\n",
       "                                                   &#x27;has_secondary_use_rental&#x27;,\n",
       "                                                   &#x27;height_percentage&#x27;,\n",
       "                                                   &#x27;has_secondary_use_institution&#x27;,\n",
       "                                                   &#x27;has_superstructure_cement_mortar_stone&#x27;,\n",
       "                                                   &#x27;has_superstructure_bamboo&#x27;])])),\n",
       "                (&#x27;classifier&#x27;,\n",
       "                 RandomForestClassifier(n_estimators=300, random_state=57))])</pre><b>In a Jupyter environment, please rerun this cell to show the HTML representation or trust the notebook. <br />On GitHub, the HTML representation is unable to render, please try loading this page with nbviewer.org.</b></div><div class=\"sk-container\" hidden><div class=\"sk-item sk-dashed-wrapped\"><div class=\"sk-label-container\"><div class=\"sk-label sk-toggleable\"><input class=\"sk-toggleable__control sk-hidden--visually\" id=\"sk-estimator-id-1\" type=\"checkbox\" ><label for=\"sk-estimator-id-1\" class=\"sk-toggleable__label sk-toggleable__label-arrow\">Pipeline</label><div class=\"sk-toggleable__content\"><pre>Pipeline(steps=[(&#x27;preprocessor&#x27;,\n",
       "                 ColumnTransformer(transformers=[(&#x27;cat&#x27;,\n",
       "                                                  Pipeline(steps=[(&#x27;target&#x27;,\n",
       "                                                                   TargetEncoder(target_type=&#x27;continuous&#x27;))]),\n",
       "                                                  [&#x27;geo_level_1_id&#x27;,\n",
       "                                                   &#x27;geo_level_2_id&#x27;,\n",
       "                                                   &#x27;geo_level_3_id&#x27;,\n",
       "                                                   &#x27;land_surface_condition&#x27;,\n",
       "                                                   &#x27;foundation_type&#x27;,\n",
       "                                                   &#x27;roof_type&#x27;,\n",
       "                                                   &#x27;ground_floor_type&#x27;,\n",
       "                                                   &#x27;other_floor_type&#x27;,\n",
       "                                                   &#x27;position&#x27;,\n",
       "                                                   &#x27;plan_configuration&#x27;,\n",
       "                                                   &#x27;legal_ownership_status&#x27;]),\n",
       "                                                 (&#x27;num...\n",
       "                                                   &#x27;has_secondary_use_health_post&#x27;,\n",
       "                                                   &#x27;has_secondary_use_use_police&#x27;,\n",
       "                                                   &#x27;has_superstructure_mud_mortar_brick&#x27;,\n",
       "                                                   &#x27;has_secondary_use_agriculture&#x27;,\n",
       "                                                   &#x27;has_secondary_use_rental&#x27;,\n",
       "                                                   &#x27;height_percentage&#x27;,\n",
       "                                                   &#x27;has_secondary_use_institution&#x27;,\n",
       "                                                   &#x27;has_superstructure_cement_mortar_stone&#x27;,\n",
       "                                                   &#x27;has_superstructure_bamboo&#x27;])])),\n",
       "                (&#x27;classifier&#x27;,\n",
       "                 RandomForestClassifier(n_estimators=300, random_state=57))])</pre></div></div></div><div class=\"sk-serial\"><div class=\"sk-item sk-dashed-wrapped\"><div class=\"sk-label-container\"><div class=\"sk-label sk-toggleable\"><input class=\"sk-toggleable__control sk-hidden--visually\" id=\"sk-estimator-id-2\" type=\"checkbox\" ><label for=\"sk-estimator-id-2\" class=\"sk-toggleable__label sk-toggleable__label-arrow\">preprocessor: ColumnTransformer</label><div class=\"sk-toggleable__content\"><pre>ColumnTransformer(transformers=[(&#x27;cat&#x27;,\n",
       "                                 Pipeline(steps=[(&#x27;target&#x27;,\n",
       "                                                  TargetEncoder(target_type=&#x27;continuous&#x27;))]),\n",
       "                                 [&#x27;geo_level_1_id&#x27;, &#x27;geo_level_2_id&#x27;,\n",
       "                                  &#x27;geo_level_3_id&#x27;, &#x27;land_surface_condition&#x27;,\n",
       "                                  &#x27;foundation_type&#x27;, &#x27;roof_type&#x27;,\n",
       "                                  &#x27;ground_floor_type&#x27;, &#x27;other_floor_type&#x27;,\n",
       "                                  &#x27;position&#x27;, &#x27;plan_configuration&#x27;,\n",
       "                                  &#x27;legal_ownership_status&#x27;]),\n",
       "                                (&#x27;numerical&#x27;, &#x27;passthrough&#x27;,\n",
       "                                 [&#x27;has_seco...\n",
       "                                  &#x27;has_superstructure_rc_non_engineered&#x27;, &#x27;age&#x27;,\n",
       "                                  &#x27;has_superstructure_cement_mortar_brick&#x27;,\n",
       "                                  &#x27;has_secondary_use_health_post&#x27;,\n",
       "                                  &#x27;has_secondary_use_use_police&#x27;,\n",
       "                                  &#x27;has_superstructure_mud_mortar_brick&#x27;,\n",
       "                                  &#x27;has_secondary_use_agriculture&#x27;,\n",
       "                                  &#x27;has_secondary_use_rental&#x27;,\n",
       "                                  &#x27;height_percentage&#x27;,\n",
       "                                  &#x27;has_secondary_use_institution&#x27;,\n",
       "                                  &#x27;has_superstructure_cement_mortar_stone&#x27;,\n",
       "                                  &#x27;has_superstructure_bamboo&#x27;])])</pre></div></div></div><div class=\"sk-parallel\"><div class=\"sk-parallel-item\"><div class=\"sk-item\"><div class=\"sk-label-container\"><div class=\"sk-label sk-toggleable\"><input class=\"sk-toggleable__control sk-hidden--visually\" id=\"sk-estimator-id-3\" type=\"checkbox\" ><label for=\"sk-estimator-id-3\" class=\"sk-toggleable__label sk-toggleable__label-arrow\">cat</label><div class=\"sk-toggleable__content\"><pre>[&#x27;geo_level_1_id&#x27;, &#x27;geo_level_2_id&#x27;, &#x27;geo_level_3_id&#x27;, &#x27;land_surface_condition&#x27;, &#x27;foundation_type&#x27;, &#x27;roof_type&#x27;, &#x27;ground_floor_type&#x27;, &#x27;other_floor_type&#x27;, &#x27;position&#x27;, &#x27;plan_configuration&#x27;, &#x27;legal_ownership_status&#x27;]</pre></div></div></div><div class=\"sk-serial\"><div class=\"sk-item\"><div class=\"sk-serial\"><div class=\"sk-item\"><div class=\"sk-estimator sk-toggleable\"><input class=\"sk-toggleable__control sk-hidden--visually\" id=\"sk-estimator-id-4\" type=\"checkbox\" ><label for=\"sk-estimator-id-4\" class=\"sk-toggleable__label sk-toggleable__label-arrow\">TargetEncoder</label><div class=\"sk-toggleable__content\"><pre>TargetEncoder(target_type=&#x27;continuous&#x27;)</pre></div></div></div></div></div></div></div></div><div class=\"sk-parallel-item\"><div class=\"sk-item\"><div class=\"sk-label-container\"><div class=\"sk-label sk-toggleable\"><input class=\"sk-toggleable__control sk-hidden--visually\" id=\"sk-estimator-id-5\" type=\"checkbox\" ><label for=\"sk-estimator-id-5\" class=\"sk-toggleable__label sk-toggleable__label-arrow\">numerical</label><div class=\"sk-toggleable__content\"><pre>[&#x27;has_secondary_use_other&#x27;, &#x27;count_families&#x27;, &#x27;has_secondary_use&#x27;, &#x27;has_superstructure_rc_engineered&#x27;, &#x27;has_superstructure_stone_flag&#x27;, &#x27;has_secondary_use_school&#x27;, &#x27;has_superstructure_timber&#x27;, &#x27;count_floors_pre_eq&#x27;, &#x27;area_percentage&#x27;, &#x27;has_secondary_use_hotel&#x27;, &#x27;has_secondary_use_industry&#x27;, &#x27;has_superstructure_mud_mortar_stone&#x27;, &#x27;has_secondary_use_gov_office&#x27;, &#x27;has_superstructure_other&#x27;, &#x27;volume_percentage&#x27;, &#x27;has_superstructure_adobe_mud&#x27;, &#x27;has_superstructure_rc_non_engineered&#x27;, &#x27;age&#x27;, &#x27;has_superstructure_cement_mortar_brick&#x27;, &#x27;has_secondary_use_health_post&#x27;, &#x27;has_secondary_use_use_police&#x27;, &#x27;has_superstructure_mud_mortar_brick&#x27;, &#x27;has_secondary_use_agriculture&#x27;, &#x27;has_secondary_use_rental&#x27;, &#x27;height_percentage&#x27;, &#x27;has_secondary_use_institution&#x27;, &#x27;has_superstructure_cement_mortar_stone&#x27;, &#x27;has_superstructure_bamboo&#x27;]</pre></div></div></div><div class=\"sk-serial\"><div class=\"sk-item\"><div class=\"sk-estimator sk-toggleable\"><input class=\"sk-toggleable__control sk-hidden--visually\" id=\"sk-estimator-id-6\" type=\"checkbox\" ><label for=\"sk-estimator-id-6\" class=\"sk-toggleable__label sk-toggleable__label-arrow\">passthrough</label><div class=\"sk-toggleable__content\"><pre>passthrough</pre></div></div></div></div></div></div></div></div><div class=\"sk-item\"><div class=\"sk-estimator sk-toggleable\"><input class=\"sk-toggleable__control sk-hidden--visually\" id=\"sk-estimator-id-7\" type=\"checkbox\" ><label for=\"sk-estimator-id-7\" class=\"sk-toggleable__label sk-toggleable__label-arrow\">RandomForestClassifier</label><div class=\"sk-toggleable__content\"><pre>RandomForestClassifier(n_estimators=300, random_state=57)</pre></div></div></div></div></div></div></div>"
      ],
      "text/plain": [
       "Pipeline(steps=[('preprocessor',\n",
       "                 ColumnTransformer(transformers=[('cat',\n",
       "                                                  Pipeline(steps=[('target',\n",
       "                                                                   TargetEncoder(target_type='continuous'))]),\n",
       "                                                  ['geo_level_1_id',\n",
       "                                                   'geo_level_2_id',\n",
       "                                                   'geo_level_3_id',\n",
       "                                                   'land_surface_condition',\n",
       "                                                   'foundation_type',\n",
       "                                                   'roof_type',\n",
       "                                                   'ground_floor_type',\n",
       "                                                   'other_floor_type',\n",
       "                                                   'position',\n",
       "                                                   'plan_configuration',\n",
       "                                                   'legal_ownership_status']),\n",
       "                                                 ('num...\n",
       "                                                   'has_secondary_use_health_post',\n",
       "                                                   'has_secondary_use_use_police',\n",
       "                                                   'has_superstructure_mud_mortar_brick',\n",
       "                                                   'has_secondary_use_agriculture',\n",
       "                                                   'has_secondary_use_rental',\n",
       "                                                   'height_percentage',\n",
       "                                                   'has_secondary_use_institution',\n",
       "                                                   'has_superstructure_cement_mortar_stone',\n",
       "                                                   'has_superstructure_bamboo'])])),\n",
       "                ('classifier',\n",
       "                 RandomForestClassifier(n_estimators=300, random_state=57))])"
      ]
     },
     "execution_count": 4,
     "metadata": {},
     "output_type": "execute_result"
    }
   ],
   "source": [
    "from sklearn.compose import ColumnTransformer\n",
    "from sklearn.pipeline import Pipeline\n",
    "\n",
    "from sklearn.preprocessing import TargetEncoder\n",
    "\n",
    "# Preprocessing for categorical data\n",
    "categorical_transformer = Pipeline(steps=[\n",
    "    ('target', TargetEncoder(target_type=\"continuous\"))\n",
    "])\n",
    "\n",
    "# Bundle preprocessing pipeline\n",
    "preprocessor = ColumnTransformer(\n",
    "    transformers=[\n",
    "        ('cat', categorical_transformer, categorical_columns),\n",
    "        (\"numerical\", \"passthrough\", numerical_columns),\n",
    "    ])\n",
    "\n",
    "\n",
    "# the model\n",
    "from sklearn.ensemble import RandomForestClassifier\n",
    "from sklearn.model_selection import GridSearchCV\n",
    "\n",
    "\n",
    "model = RandomForestClassifier(max_depth=None, n_estimators=300, random_state=57)\n",
    "\n",
    "clf = Pipeline(\n",
    "    steps=[('preprocessor', preprocessor),\n",
    "           ('classifier', model)])\n",
    "\n",
    "\n",
    "#param_grid = {\n",
    "#    'classifier__n_estimators': [200, 300, 400],\n",
    "#    'classifier__max_depth': [None, 50, 100]\n",
    "#}\n",
    "#\n",
    "#grid_search = GridSearchCV(clf, param_grid, \n",
    "#                           cv=2, n_jobs=1,\n",
    "#                           scoring='f1_micro',verbose=3)\n",
    "\n",
    "clf.fit(X_train, y_train['damage_grade'])"
   ]
  },
  {
   "cell_type": "markdown",
   "metadata": {},
   "source": [
    "### F1 Score"
   ]
  },
  {
   "cell_type": "code",
   "execution_count": 6,
   "metadata": {},
   "outputs": [
    {
     "name": "stdout",
     "output_type": "stream",
     "text": [
      "F1 score: 0.7428867443065177\n"
     ]
    }
   ],
   "source": [
    "from sklearn.metrics import f1_score\n",
    "\n",
    "pred_valid = clf.predict(X_valid)\n",
    "my_f1_score = f1_score(y_valid, pred_valid, average='micro')\n",
    "print(f\"F1 score: {my_f1_score}\")\n"
   ]
  },
  {
   "cell_type": "markdown",
   "metadata": {},
   "source": [
    "### Confussion Matrix"
   ]
  },
  {
   "cell_type": "code",
   "execution_count": 7,
   "metadata": {},
   "outputs": [
    {
     "data": {
      "text/plain": [
       "<sklearn.metrics._plot.confusion_matrix.ConfusionMatrixDisplay at 0x7fbf28377510>"
      ]
     },
     "execution_count": 7,
     "metadata": {},
     "output_type": "execute_result"
    },
    {
     "data": {
      "image/png": "[encoded data removed]",
      "text/plain": [
       "<Figure size 640x480 with 2 Axes>"
      ]
     },
     "metadata": {},
     "output_type": "display_data"
    }
   ],
   "source": [
    "from sklearn.metrics import ConfusionMatrixDisplay\n",
    "\n",
    "ConfusionMatrixDisplay.from_estimator(clf, X_valid, y_valid)"
   ]
  },
  {
   "cell_type": "markdown",
   "metadata": {},
   "source": [
    "### Create submission file"
   ]
  },
  {
   "cell_type": "code",
   "execution_count": 8,
   "metadata": {},
   "outputs": [],
   "source": [
    "pred_test = clf.predict(X_test)\n",
    "\n",
    "my_submission = pd.DataFrame(data=pred_test,\n",
    "                             columns=['damage_grade'],\n",
    "                             index=X_test.index)\n",
    "\n",
    "my_submission.to_csv('pred_test_random_forrest.csv')"
   ]
  }
 ],
 "metadata": {
  "kernelspec": {
   "display_name": "dsr",
   "language": "python",
   "name": "python3"
  },
  "language_info": {
   "codemirror_mode": {
    "name": "ipython",
    "version": 3
   },
   "file_extension": ".py",
   "mimetype": "text/x-python",
   "name": "python",
   "nbconvert_exporter": "python",
   "pygments_lexer": "ipython3",
   "version": "3.11.5"
  }
 },
 "nbformat": 4,
 "nbformat_minor": 2
}
