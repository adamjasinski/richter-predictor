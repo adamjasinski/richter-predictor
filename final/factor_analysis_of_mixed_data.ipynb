{
 "cells": [
  {
   "cell_type": "markdown",
   "metadata": {},
   "source": [
    "# Factor analysis of mixed data (FAMD)"
   ]
  },
  {
   "cell_type": "code",
   "execution_count": 1,
   "metadata": {},
   "outputs": [],
   "source": [
    "import pandas as pd\n",
    "pd.options.plotting.backend = \"plotly\"\n",
    "pd.set_option('display.max_columns', None)\n",
    "\n",
    "import numpy as np\n",
    "\n",
    "X_train = pd.read_csv('../data/train_values.csv', index_col='building_id')\n",
    "y_train = pd.read_csv('../data/train_labels.csv', index_col='building_id')\n",
    "\n",
    "X_test = pd.read_csv('../data/test_values.csv', index_col='building_id')\n",
    "\n",
    "\n",
    "X_train[['geo_level_1_id','geo_level_2_id','geo_level_3_id']] = X_train[['geo_level_1_id','geo_level_2_id','geo_level_3_id']].astype(str)\n",
    "X_test[['geo_level_1_id','geo_level_2_id','geo_level_3_id']] = X_test[['geo_level_1_id','geo_level_2_id','geo_level_3_id']].astype(str)\n",
    "\n",
    "X_train[['count_floors_pre_eq','age','area_percentage','height_percentage']] = X_train[['count_floors_pre_eq','age','area_percentage','height_percentage']].astype(float)\n",
    "\n",
    "X_train['volume_percentage']=X_train['area_percentage'] * X_train['height_percentage']\n",
    "X_test['volume_percentage']=X_test['area_percentage'] * X_test['height_percentage']\n",
    "\n",
    "# Categorical columns \n",
    "categorical_columns = [c for c in X_train.select_dtypes(include=['object'])]\n",
    "numerical_columns= list(set(X_train.columns) - set(categorical_columns))"
   ]
  },
  {
   "cell_type": "markdown",
   "metadata": {},
   "source": [
    "### Sample subset from each target class"
   ]
  },
  {
   "cell_type": "code",
   "execution_count": null,
   "metadata": {},
   "outputs": [],
   "source": [
    "from sklearn.utils import resample\n",
    "\n",
    "def sub_sample(X, y, num_):\n",
    "    data = pd.concat([X, y], axis=1)\n",
    "\n",
    "    # Separate classes\n",
    "    damage_3 = data[data['damage_grade']==3]\n",
    "    damage_2 = data[data['damage_grade']==2]\n",
    "    damage_1  = data[data['damage_grade']==1]\n",
    " \n",
    "    damage_1_sample = resample(damage_1, \n",
    "                               replace=False,\n",
    "                               n_samples=num_)\n",
    "    \n",
    "    damage_2_sample = resample(damage_2, \n",
    "                               replace=False,\n",
    "                               n_samples=num_)    \n",
    "\n",
    "    damage_3_sample = resample(damage_3, \n",
    "                               replace=False,\n",
    "                               n_samples=num_)\n",
    "\n",
    "    # Combine majority class with upsampled minority classes\n",
    "    data_upsampled = pd.concat([damage_1_sample, damage_2_sample, damage_3_sample])\n",
    "\n",
    "    y_sampled = data_upsampled[['damage_grade']]\n",
    "    X_sampled = data_upsampled.drop(['damage_grade'], axis=1)\n",
    "\n",
    "    return (X_sampled, y_sampled)\n",
    "\n",
    "X_train_sub, y_train_sub = sub_sample(X=X_train,y=y_train,num_=1000)"
   ]
  },
  {
   "cell_type": "markdown",
   "metadata": {},
   "source": [
    "## Fit FAMD"
   ]
  },
  {
   "cell_type": "code",
   "execution_count": null,
   "metadata": {},
   "outputs": [],
   "source": [
    "import prince\n",
    "\n",
    "famd = prince.FAMD( n_components=2, n_iter=3, copy=True,\n",
    "                   check_input=True, random_state=42, engine=\"sklearn\")\n",
    "\n",
    "famd = famd.fit(X_train_sub)"
   ]
  }
 ],
 "metadata": {
  "kernelspec": {
   "display_name": "dsr",
   "language": "python",
   "name": "python3"
  },
  "language_info": {
   "codemirror_mode": {
    "name": "ipython",
    "version": 3
   },
   "file_extension": ".py",
   "mimetype": "text/x-python",
   "name": "python",
   "nbconvert_exporter": "python",
   "pygments_lexer": "ipython3",
   "version": "3.11.5"
  }
 },
 "nbformat": 4,
 "nbformat_minor": 2
}
